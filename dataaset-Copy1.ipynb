{
 "cells": [
  {
   "cell_type": "code",
   "execution_count": 168,
   "metadata": {},
   "outputs": [],
   "source": [
    "import requests\n",
    "r = requests.get('https://studyabroad.shiksha.com/canada/universities/university-of-alberta/courses')"
   ]
  },
  {
   "cell_type": "code",
   "execution_count": 169,
   "metadata": {},
   "outputs": [
    {
     "name": "stdout",
     "output_type": "stream",
     "text": [
      "<!DOCTYPE html><html lang=\"en\"><head><meta charset=\"utf-8\"><link rel=\"preconnect\" href=\"https://js.shiksha.ws\"><link rel=\"preconnect\" href=\"https://images.shiksha.ws\"><link rel=\"preconnect\" href=\"https://track.shiksha.com\"><link rel=\"preconnect\" href=\"https://www.google-analytics.com\"><link rel=\"dns-prefetch\" href=\"https://js.shiksha.ws\"><link rel=\"dns-prefetch\" href=\"https://images.shiksha.ws\"><link rel=\"dns-prefetch\" href=\"https://track.shiksha.com\"><link rel=\"dns-prefetch\" href=\"https://www.g\n"
     ]
    }
   ],
   "source": [
    "print(r.text[0:500])"
   ]
  },
  {
   "cell_type": "code",
   "execution_count": 170,
   "metadata": {},
   "outputs": [],
   "source": [
    "from bs4 import BeautifulSoup\n",
    "soup = BeautifulSoup(r.text, 'html.parser')"
   ]
  },
  {
   "cell_type": "code",
   "execution_count": 171,
   "metadata": {},
   "outputs": [],
   "source": [
    "results = soup.find_all('div', attrs={'class':'Styled__AllCourseTuple-sc-1yl1nt-34 blAYkF'})"
   ]
  },
  {
   "cell_type": "code",
   "execution_count": 172,
   "metadata": {},
   "outputs": [
    {
     "data": {
      "text/plain": [
       "61"
      ]
     },
     "execution_count": 172,
     "metadata": {},
     "output_type": "execute_result"
    }
   ],
   "source": [
    "len(results)"
   ]
  },
  {
   "cell_type": "code",
   "execution_count": null,
   "metadata": {},
   "outputs": [],
   "source": []
  },
  {
   "cell_type": "code",
   "execution_count": 173,
   "metadata": {},
   "outputs": [
    {
     "data": {
      "text/plain": [
       "[<div class=\"Styled__AllCourseTuple-sc-1yl1nt-34 blAYkF\" id=\"allC0\"><a class=\"Styled__LinkStyle-sc-19aj422-2 jRTEUB\" href=\"/canada/universities/university-of-alberta/mba\" title=\"MBA\">MBA</a><div class=\"Styled__AllCourseDiv-sc-1yl1nt-36 cSTLgE\"><div class=\"Styled__AllCourseLeftBox-sc-1yl1nt-37 fDNASc\"><div class=\"Styled__AllCourseDetail-sc-1yl1nt-39 dRtHjF\"><label>Duration</label><p>20 Months</p></div><div class=\"Styled__AllCourseDetail-sc-1yl1nt-39 dRtHjF\"><label>1st Year Tuition Fees</label><p>INR 16.3 Lakh</p></div><div class=\"Styled__AllCourseDetail-sc-1yl1nt-39 dRtHjF\"><label>Exams Accepted</label><p>GMAT : 550, GRE : Accepted</p></div></div><div class=\"Styled__AllCourseRightBox-sc-1yl1nt-38 fzJlIo\"><a class=\"Styled__LinkStyle-sc-19aj422-2 ecsfhv\" href=\"/canada/universities/university-of-alberta/mba\" title=\"\">View Details</a></div></div></div>]"
      ]
     },
     "execution_count": 173,
     "metadata": {},
     "output_type": "execute_result"
    }
   ],
   "source": [
    "results[0:1]"
   ]
  },
  {
   "cell_type": "code",
   "execution_count": 174,
   "metadata": {},
   "outputs": [
    {
     "data": {
      "text/plain": [
       "<div class=\"Styled__AllCourseTuple-sc-1yl1nt-34 blAYkF\" id=\"allC60\"><a class=\"Styled__LinkStyle-sc-19aj422-2 jRTEUB\" href=\"/canada/universities/university-of-alberta/post-diploma-bsc-dental-hygiene\" title=\"Post Diploma BSc Dental Hygiene\">Post Diploma BSc Dental Hygiene</a><div class=\"Styled__AllCourseDiv-sc-1yl1nt-36 cSTLgE\"><div class=\"Styled__AllCourseLeftBox-sc-1yl1nt-37 fDNASc\"><div class=\"Styled__AllCourseDetail-sc-1yl1nt-39 dRtHjF\"><label>Duration</label><p>4 Years</p></div><div class=\"Styled__AllCourseDetail-sc-1yl1nt-39 dRtHjF\"><label>1st Year Tuition Fees</label><p>INR 19.6 Lakh</p></div><div class=\"Styled__AllCourseDetail-sc-1yl1nt-39 dRtHjF\"><label>Exams Accepted</label><p>IELTS : 6.5, TOEFL : 90</p></div></div><div class=\"Styled__AllCourseRightBox-sc-1yl1nt-38 fzJlIo\"><a class=\"Styled__LinkStyle-sc-19aj422-2 ecsfhv\" href=\"/canada/universities/university-of-alberta/post-diploma-bsc-dental-hygiene\" title=\"\">View Details</a></div></div></div>"
      ]
     },
     "execution_count": 174,
     "metadata": {},
     "output_type": "execute_result"
    }
   ],
   "source": [
    "results[-1]"
   ]
  },
  {
   "cell_type": "code",
   "execution_count": 175,
   "metadata": {},
   "outputs": [
    {
     "data": {
      "text/plain": [
       "<div class=\"Styled__AllCourseTuple-sc-1yl1nt-34 blAYkF\" id=\"allC0\"><a class=\"Styled__LinkStyle-sc-19aj422-2 jRTEUB\" href=\"/canada/universities/university-of-alberta/mba\" title=\"MBA\">MBA</a><div class=\"Styled__AllCourseDiv-sc-1yl1nt-36 cSTLgE\"><div class=\"Styled__AllCourseLeftBox-sc-1yl1nt-37 fDNASc\"><div class=\"Styled__AllCourseDetail-sc-1yl1nt-39 dRtHjF\"><label>Duration</label><p>20 Months</p></div><div class=\"Styled__AllCourseDetail-sc-1yl1nt-39 dRtHjF\"><label>1st Year Tuition Fees</label><p>INR 16.3 Lakh</p></div><div class=\"Styled__AllCourseDetail-sc-1yl1nt-39 dRtHjF\"><label>Exams Accepted</label><p>GMAT : 550, GRE : Accepted</p></div></div><div class=\"Styled__AllCourseRightBox-sc-1yl1nt-38 fzJlIo\"><a class=\"Styled__LinkStyle-sc-19aj422-2 ecsfhv\" href=\"/canada/universities/university-of-alberta/mba\" title=\"\">View Details</a></div></div></div>"
      ]
     },
     "execution_count": 175,
     "metadata": {},
     "output_type": "execute_result"
    }
   ],
   "source": [
    "first_result =results[0]\n",
    "first_result"
   ]
  },
  {
   "cell_type": "code",
   "execution_count": 176,
   "metadata": {},
   "outputs": [
    {
     "data": {
      "text/plain": [
       "<a class=\"Styled__LinkStyle-sc-19aj422-2 jRTEUB\" href=\"/canada/universities/university-of-alberta/mba\" title=\"MBA\">MBA</a>"
      ]
     },
     "execution_count": 176,
     "metadata": {},
     "output_type": "execute_result"
    }
   ],
   "source": [
    "first_result.find('a')"
   ]
  },
  {
   "cell_type": "code",
   "execution_count": 177,
   "metadata": {},
   "outputs": [
    {
     "data": {
      "text/plain": [
       "'MBA'"
      ]
     },
     "execution_count": 177,
     "metadata": {},
     "output_type": "execute_result"
    }
   ],
   "source": [
    "first_result.find('a').text"
   ]
  },
  {
   "cell_type": "code",
   "execution_count": 178,
   "metadata": {},
   "outputs": [
    {
     "data": {
      "text/plain": [
       "<div class=\"Styled__AllCourseTuple-sc-1yl1nt-34 blAYkF\" id=\"allC0\"><a class=\"Styled__LinkStyle-sc-19aj422-2 jRTEUB\" href=\"/canada/universities/university-of-alberta/mba\" title=\"MBA\">MBA</a><div class=\"Styled__AllCourseDiv-sc-1yl1nt-36 cSTLgE\"><div class=\"Styled__AllCourseLeftBox-sc-1yl1nt-37 fDNASc\"><div class=\"Styled__AllCourseDetail-sc-1yl1nt-39 dRtHjF\"><label>Duration</label><p>20 Months</p></div><div class=\"Styled__AllCourseDetail-sc-1yl1nt-39 dRtHjF\"><label>1st Year Tuition Fees</label><p>INR 16.3 Lakh</p></div><div class=\"Styled__AllCourseDetail-sc-1yl1nt-39 dRtHjF\"><label>Exams Accepted</label><p>GMAT : 550, GRE : Accepted</p></div></div><div class=\"Styled__AllCourseRightBox-sc-1yl1nt-38 fzJlIo\"><a class=\"Styled__LinkStyle-sc-19aj422-2 ecsfhv\" href=\"/canada/universities/university-of-alberta/mba\" title=\"\">View Details</a></div></div></div>"
      ]
     },
     "execution_count": 178,
     "metadata": {},
     "output_type": "execute_result"
    }
   ],
   "source": [
    "first_result"
   ]
  },
  {
   "cell_type": "code",
   "execution_count": 179,
   "metadata": {},
   "outputs": [
    {
     "data": {
      "text/plain": [
       "<p>20 Months</p>"
      ]
     },
     "execution_count": 179,
     "metadata": {},
     "output_type": "execute_result"
    }
   ],
   "source": [
    "first_result.find('p')"
   ]
  },
  {
   "cell_type": "code",
   "execution_count": 180,
   "metadata": {},
   "outputs": [
    {
     "data": {
      "text/plain": [
       "'20 Months'"
      ]
     },
     "execution_count": 180,
     "metadata": {},
     "output_type": "execute_result"
    }
   ],
   "source": [
    "first_result.find('p').text"
   ]
  },
  {
   "cell_type": "code",
   "execution_count": 181,
   "metadata": {},
   "outputs": [
    {
     "data": {
      "text/plain": [
       "<div class=\"Styled__AllCourseTuple-sc-1yl1nt-34 blAYkF\" id=\"allC0\"><a class=\"Styled__LinkStyle-sc-19aj422-2 jRTEUB\" href=\"/canada/universities/university-of-alberta/mba\" title=\"MBA\">MBA</a><div class=\"Styled__AllCourseDiv-sc-1yl1nt-36 cSTLgE\"><div class=\"Styled__AllCourseLeftBox-sc-1yl1nt-37 fDNASc\"><div class=\"Styled__AllCourseDetail-sc-1yl1nt-39 dRtHjF\"><label>Duration</label><p>20 Months</p></div><div class=\"Styled__AllCourseDetail-sc-1yl1nt-39 dRtHjF\"><label>1st Year Tuition Fees</label><p>INR 16.3 Lakh</p></div><div class=\"Styled__AllCourseDetail-sc-1yl1nt-39 dRtHjF\"><label>Exams Accepted</label><p>GMAT : 550, GRE : Accepted</p></div></div><div class=\"Styled__AllCourseRightBox-sc-1yl1nt-38 fzJlIo\"><a class=\"Styled__LinkStyle-sc-19aj422-2 ecsfhv\" href=\"/canada/universities/university-of-alberta/mba\" title=\"\">View Details</a></div></div></div>"
      ]
     },
     "execution_count": 181,
     "metadata": {},
     "output_type": "execute_result"
    }
   ],
   "source": [
    "first_result"
   ]
  },
  {
   "cell_type": "code",
   "execution_count": 182,
   "metadata": {},
   "outputs": [
    {
     "data": {
      "text/plain": [
       "<div class=\"Styled__AllCourseDiv-sc-1yl1nt-36 cSTLgE\"><div class=\"Styled__AllCourseLeftBox-sc-1yl1nt-37 fDNASc\"><div class=\"Styled__AllCourseDetail-sc-1yl1nt-39 dRtHjF\"><label>Duration</label><p>20 Months</p></div><div class=\"Styled__AllCourseDetail-sc-1yl1nt-39 dRtHjF\"><label>1st Year Tuition Fees</label><p>INR 16.3 Lakh</p></div><div class=\"Styled__AllCourseDetail-sc-1yl1nt-39 dRtHjF\"><label>Exams Accepted</label><p>GMAT : 550, GRE : Accepted</p></div></div><div class=\"Styled__AllCourseRightBox-sc-1yl1nt-38 fzJlIo\"><a class=\"Styled__LinkStyle-sc-19aj422-2 ecsfhv\" href=\"/canada/universities/university-of-alberta/mba\" title=\"\">View Details</a></div></div>"
      ]
     },
     "execution_count": 182,
     "metadata": {},
     "output_type": "execute_result"
    }
   ],
   "source": [
    "first_result.find('div')"
   ]
  },
  {
   "cell_type": "code",
   "execution_count": 204,
   "metadata": {},
   "outputs": [
    {
     "data": {
      "text/plain": [
       "' 16.3 Lakh'"
      ]
     },
     "execution_count": 204,
     "metadata": {},
     "output_type": "execute_result"
    }
   ],
   "source": [
    "first_result.find('div').contents[0].text[41:51]"
   ]
  },
  {
   "cell_type": "code",
   "execution_count": 192,
   "metadata": {},
   "outputs": [
    {
     "data": {
      "text/plain": [
       "'/canada/universities/university-of-alberta/mba'"
      ]
     },
     "execution_count": 192,
     "metadata": {},
     "output_type": "execute_result"
    }
   ],
   "source": [
    "first_result.find('a')['href']"
   ]
  },
  {
   "cell_type": "code",
   "execution_count": 220,
   "metadata": {},
   "outputs": [],
   "source": [
    "records = []\n",
    "for result in results:\n",
    "    course = result.find('a').text\n",
    "    duration = result.find('p').text\n",
    "    fee = result.find('div').contents[0].text[41:51]\n",
    "    url = result.find('a')['href']\n",
    "    records.append((course,duration,fee,url))\n",
    "\n",
    "    "
   ]
  },
  {
   "cell_type": "code",
   "execution_count": 221,
   "metadata": {},
   "outputs": [
    {
     "data": {
      "text/plain": [
       "61"
      ]
     },
     "execution_count": 221,
     "metadata": {},
     "output_type": "execute_result"
    }
   ],
   "source": [
    "len(records)"
   ]
  },
  {
   "cell_type": "code",
   "execution_count": 222,
   "metadata": {},
   "outputs": [
    {
     "data": {
      "text/plain": [
       "('MBA in International Business',\n",
       " '20 Months',\n",
       " ' 16.3 Lakh',\n",
       " '/canada/universities/university-of-alberta/mba-in-international-business')"
      ]
     },
     "execution_count": 222,
     "metadata": {},
     "output_type": "execute_result"
    }
   ],
   "source": [
    "records[8]"
   ]
  },
  {
   "cell_type": "code",
   "execution_count": 227,
   "metadata": {},
   "outputs": [],
   "source": [
    "import pandas as pd\n",
    "df = pd.DataFrame(records, columns=['course','duration','fee','url'])"
   ]
  },
  {
   "cell_type": "code",
   "execution_count": 229,
   "metadata": {},
   "outputs": [
    {
     "data": {
      "text/html": [
       "<div>\n",
       "<style scoped>\n",
       "    .dataframe tbody tr th:only-of-type {\n",
       "        vertical-align: middle;\n",
       "    }\n",
       "\n",
       "    .dataframe tbody tr th {\n",
       "        vertical-align: top;\n",
       "    }\n",
       "\n",
       "    .dataframe thead th {\n",
       "        text-align: right;\n",
       "    }\n",
       "</style>\n",
       "<table border=\"1\" class=\"dataframe\">\n",
       "  <thead>\n",
       "    <tr style=\"text-align: right;\">\n",
       "      <th></th>\n",
       "      <th>course</th>\n",
       "      <th>duration</th>\n",
       "      <th>fee</th>\n",
       "      <th>url</th>\n",
       "    </tr>\n",
       "  </thead>\n",
       "  <tbody>\n",
       "    <tr>\n",
       "      <td>56</td>\n",
       "      <td>Bachelor of Arts (Env. Studies)- Augustana Campus</td>\n",
       "      <td>4 Years</td>\n",
       "      <td>5.6 LakhEx</td>\n",
       "      <td>/canada/universities/university-of-alberta/bac...</td>\n",
       "    </tr>\n",
       "    <tr>\n",
       "      <td>57</td>\n",
       "      <td>Bachelor of Education Elementary program</td>\n",
       "      <td>4 Years</td>\n",
       "      <td>5.6 LakhEx</td>\n",
       "      <td>/canada/universities/university-of-alberta/bac...</td>\n",
       "    </tr>\n",
       "    <tr>\n",
       "      <td>58</td>\n",
       "      <td>BA in Science Technology and Society</td>\n",
       "      <td>4 Years</td>\n",
       "      <td>7 LakhExam</td>\n",
       "      <td>/canada/universities/university-of-alberta/ba-...</td>\n",
       "    </tr>\n",
       "    <tr>\n",
       "      <td>59</td>\n",
       "      <td>BSc in Engineering Physics</td>\n",
       "      <td>4 Years</td>\n",
       "      <td>2.8 LakhEx</td>\n",
       "      <td>/canada/universities/university-of-alberta/bsc...</td>\n",
       "    </tr>\n",
       "    <tr>\n",
       "      <td>60</td>\n",
       "      <td>Post Diploma BSc Dental Hygiene</td>\n",
       "      <td>4 Years</td>\n",
       "      <td>9.6 LakhEx</td>\n",
       "      <td>/canada/universities/university-of-alberta/pos...</td>\n",
       "    </tr>\n",
       "  </tbody>\n",
       "</table>\n",
       "</div>"
      ],
      "text/plain": [
       "                                               course duration         fee  \\\n",
       "56  Bachelor of Arts (Env. Studies)- Augustana Campus  4 Years  5.6 LakhEx   \n",
       "57           Bachelor of Education Elementary program  4 Years  5.6 LakhEx   \n",
       "58               BA in Science Technology and Society  4 Years  7 LakhExam   \n",
       "59                         BSc in Engineering Physics  4 Years  2.8 LakhEx   \n",
       "60                    Post Diploma BSc Dental Hygiene  4 Years  9.6 LakhEx   \n",
       "\n",
       "                                                  url  \n",
       "56  /canada/universities/university-of-alberta/bac...  \n",
       "57  /canada/universities/university-of-alberta/bac...  \n",
       "58  /canada/universities/university-of-alberta/ba-...  \n",
       "59  /canada/universities/university-of-alberta/bsc...  \n",
       "60  /canada/universities/university-of-alberta/pos...  "
      ]
     },
     "execution_count": 229,
     "metadata": {},
     "output_type": "execute_result"
    }
   ],
   "source": [
    "df.tail()"
   ]
  },
  {
   "cell_type": "code",
   "execution_count": 225,
   "metadata": {},
   "outputs": [],
   "source": [
    "df.to_excel('Alberta.xlsx', encoding='utf-8')"
   ]
  },
  {
   "cell_type": "code",
   "execution_count": 226,
   "metadata": {},
   "outputs": [],
   "source": [
    "df = pd.read_excel('Alberta.xlsx',parse_dates=['course'],encoding='utf-8')"
   ]
  },
  {
   "cell_type": "code",
   "execution_count": null,
   "metadata": {},
   "outputs": [],
   "source": []
  },
  {
   "cell_type": "code",
   "execution_count": null,
   "metadata": {},
   "outputs": [],
   "source": []
  }
 ],
 "metadata": {
  "kernelspec": {
   "display_name": "Python 3",
   "language": "python",
   "name": "python3"
  },
  "language_info": {
   "codemirror_mode": {
    "name": "ipython",
    "version": 3
   },
   "file_extension": ".py",
   "mimetype": "text/x-python",
   "name": "python",
   "nbconvert_exporter": "python",
   "pygments_lexer": "ipython3",
   "version": "3.7.4"
  }
 },
 "nbformat": 4,
 "nbformat_minor": 2
}
